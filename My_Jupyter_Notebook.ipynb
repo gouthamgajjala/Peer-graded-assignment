{
 "cells": [
  {
   "cell_type": "markdown",
   "id": "7b2ac4ae-53fb-41c8-9aa1-79a316ff5dcc",
   "metadata": {
    "tags": []
   },
   "source": [
    "# My Jupyter Notebook on IBM Watson Studio"
   ]
  },
  {
   "cell_type": "markdown",
   "id": "42821069-06d0-4096-9f2d-438cc1b9c291",
   "metadata": {},
   "source": [
    "**GAJJALA SAI GOUTHAM REDDY**<br>\n",
    "Data Scientist"
   ]
  },
  {
   "cell_type": "markdown",
   "id": "13878a5c-60da-4f04-b294-d55d34c28b12",
   "metadata": {},
   "source": [
    "*I am interested in data science because, I want to plan and come up with better solutions for my organization by analyzing the deep underlying insights of data and providing new solutions*"
   ]
  },
  {
   "cell_type": "markdown",
   "id": "bea57796-7763-4dd7-8ea7-81eb2cc435db",
   "metadata": {
    "tags": []
   },
   "source": [
    "### The Following code gives an outcome of a rolling dice (1 to 6)"
   ]
  },
  {
   "cell_type": "code",
   "execution_count": 6,
   "id": "a29efbc1-8626-4198-b1f1-d62f32f87f66",
   "metadata": {},
   "outputs": [
    {
     "name": "stdout",
     "output_type": "stream",
     "text": [
      "5\n"
     ]
    }
   ],
   "source": [
    "import random\n",
    "\n",
    "Roll_Dice = random.randint(1,7)\n",
    "\n",
    "print(Roll_Dice)"
   ]
  },
  {
   "cell_type": "markdown",
   "id": "32d0baaf-9c51-4297-a8c5-bd36fc3227b7",
   "metadata": {},
   "source": [
    "##### Tools\n",
    "***\n",
    "1 IBM SPSS Statistics <br>\n",
    "2 SPSS Moduler <br>\n",
    "3 IBM opensource <br>\n",
    "\n",
    "[Watson Studio Webpage](https://www.ibm.com/in-en/cloud/watson-studio)\n",
    "\n",
    "\n"
   ]
  }
 ],
 "metadata": {
  "kernelspec": {
   "display_name": "Python",
   "language": "python",
   "name": "conda-env-python-py"
  },
  "language_info": {
   "codemirror_mode": {
    "name": "ipython",
    "version": 3
   },
   "file_extension": ".py",
   "mimetype": "text/x-python",
   "name": "python",
   "nbconvert_exporter": "python",
   "pygments_lexer": "ipython3",
   "version": "3.7.12"
  }
 },
 "nbformat": 4,
 "nbformat_minor": 5
}
